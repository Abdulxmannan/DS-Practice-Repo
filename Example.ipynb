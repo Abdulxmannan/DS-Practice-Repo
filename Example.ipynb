{
 "cells": [
  {
   "cell_type": "code",
   "execution_count": 1,
   "id": "1c1278dd-5d1f-4af9-a9c9-58dc5e3f1660",
   "metadata": {},
   "outputs": [],
   "source": [
    "countries = [\"USA\", \"India\", \"Pakistan\", \"Brazil\"]"
   ]
  },
  {
   "cell_type": "code",
   "execution_count": 2,
   "id": "cdc4e5df-b6af-4abf-85ae-fe924eb8dd25",
   "metadata": {},
   "outputs": [
    {
     "data": {
      "text/plain": [
       "['USA', 'India', 'Pakistan', 'Brazil']"
      ]
     },
     "execution_count": 2,
     "metadata": {},
     "output_type": "execute_result"
    }
   ],
   "source": [
    "countries"
   ]
  },
  {
   "cell_type": "code",
   "execution_count": 3,
   "id": "96cde6b6-2d0c-43f5-bd54-dc8aeb20e668",
   "metadata": {},
   "outputs": [
    {
     "data": {
      "text/plain": [
       "['USA', 'India', 'Pakistan']"
      ]
     },
     "execution_count": 3,
     "metadata": {},
     "output_type": "execute_result"
    }
   ],
   "source": [
    "#Slicing\n",
    "countries[0:3]"
   ]
  },
  {
   "cell_type": "code",
   "execution_count": 4,
   "id": "8055b676-a730-4bc9-a75d-c6326eba7142",
   "metadata": {},
   "outputs": [
    {
     "data": {
      "text/plain": [
       "['India', 'Pakistan', 'Brazil']"
      ]
     },
     "execution_count": 4,
     "metadata": {},
     "output_type": "execute_result"
    }
   ],
   "source": [
    "countries[1:]"
   ]
  },
  {
   "cell_type": "code",
   "execution_count": 5,
   "id": "d3defb9a-38d1-4259-af7e-2c63056f25dc",
   "metadata": {},
   "outputs": [
    {
     "data": {
      "text/plain": [
       "['USA', 'India']"
      ]
     },
     "execution_count": 5,
     "metadata": {},
     "output_type": "execute_result"
    }
   ],
   "source": [
    "countries[:2]"
   ]
  },
  {
   "cell_type": "markdown",
   "id": "57fa6003-329a-497c-9a04-ff3641895021",
   "metadata": {},
   "source": [
    "## Adding stuff in the list"
   ]
  },
  {
   "cell_type": "code",
   "execution_count": 6,
   "id": "87921075-836c-4542-8808-bf929efc5ddc",
   "metadata": {},
   "outputs": [
    {
     "data": {
      "text/plain": [
       "['USA', 'India', 'Pakistan', 'Brazil']"
      ]
     },
     "execution_count": 6,
     "metadata": {},
     "output_type": "execute_result"
    }
   ],
   "source": [
    "countries"
   ]
  },
  {
   "cell_type": "code",
   "execution_count": 7,
   "id": "9d3f6b09-ec73-451d-b351-ba29d9e50c1a",
   "metadata": {},
   "outputs": [],
   "source": [
    "countries.append(\"China\")"
   ]
  },
  {
   "cell_type": "code",
   "execution_count": 8,
   "id": "4f7919d3-d8c7-4f06-8a1b-810a36bd99d2",
   "metadata": {},
   "outputs": [
    {
     "data": {
      "text/plain": [
       "['USA', 'India', 'Pakistan', 'Brazil', 'China']"
      ]
     },
     "execution_count": 8,
     "metadata": {},
     "output_type": "execute_result"
    }
   ],
   "source": [
    "countries"
   ]
  },
  {
   "cell_type": "code",
   "execution_count": 9,
   "id": "bd55681d-c78d-4696-8fc2-dd8ac6e1fa4e",
   "metadata": {},
   "outputs": [],
   "source": [
    "countries.insert(1,\"Spain\")"
   ]
  },
  {
   "cell_type": "code",
   "execution_count": 10,
   "id": "9f608116-7231-4577-aa90-8a3e56f0cf76",
   "metadata": {},
   "outputs": [
    {
     "data": {
      "text/plain": [
       "['USA', 'Spain', 'India', 'Pakistan', 'Brazil', 'China']"
      ]
     },
     "execution_count": 10,
     "metadata": {},
     "output_type": "execute_result"
    }
   ],
   "source": [
    "countries"
   ]
  },
  {
   "cell_type": "markdown",
   "id": "e2b9e7f1-a085-4513-8304-faa6c3159e26",
   "metadata": {},
   "source": [
    "## Removing "
   ]
  },
  {
   "cell_type": "code",
   "execution_count": 11,
   "id": "292668ad-49df-4b35-82e1-23699c383eb6",
   "metadata": {},
   "outputs": [],
   "source": [
    "countries.remove(\"India\")"
   ]
  },
  {
   "cell_type": "code",
   "execution_count": 12,
   "id": "d30e14d0-f90e-45de-b283-fa1667ddedad",
   "metadata": {},
   "outputs": [
    {
     "data": {
      "text/plain": [
       "['USA', 'Spain', 'Pakistan', 'Brazil', 'China']"
      ]
     },
     "execution_count": 12,
     "metadata": {},
     "output_type": "execute_result"
    }
   ],
   "source": [
    "countries"
   ]
  },
  {
   "cell_type": "markdown",
   "id": "0ab65d21-eca3-4abb-b8f5-dcbfb80b5b8d",
   "metadata": {},
   "source": [
    "countries.pop(-1)"
   ]
  },
  {
   "cell_type": "code",
   "execution_count": 13,
   "id": "f34df27d-72c2-4c70-879c-0692c29ce047",
   "metadata": {},
   "outputs": [],
   "source": [
    "del countries[0]"
   ]
  },
  {
   "cell_type": "code",
   "execution_count": 14,
   "id": "a477e74e-fdd0-4810-9db3-7b3b72f318f0",
   "metadata": {},
   "outputs": [
    {
     "data": {
      "text/plain": [
       "['Spain', 'Pakistan', 'Brazil', 'China']"
      ]
     },
     "execution_count": 14,
     "metadata": {},
     "output_type": "execute_result"
    }
   ],
   "source": [
    "countries"
   ]
  },
  {
   "cell_type": "markdown",
   "id": "37461c2c-735d-4ae4-bebc-60a4fc0d2a30",
   "metadata": {},
   "source": [
    "## Sort"
   ]
  },
  {
   "cell_type": "code",
   "execution_count": 15,
   "id": "97b69d2e-b608-4c77-81fd-60e3c9b7ce33",
   "metadata": {},
   "outputs": [],
   "source": [
    "numbers=[3,54,6,7,2,1]"
   ]
  },
  {
   "cell_type": "code",
   "execution_count": 16,
   "id": "309dd7b5-8378-4978-af66-69aad5d3bd9e",
   "metadata": {},
   "outputs": [],
   "source": [
    "numbers.sort()"
   ]
  },
  {
   "cell_type": "code",
   "execution_count": 17,
   "id": "1e668a21-d59d-46c5-8ae7-cc27888640a1",
   "metadata": {},
   "outputs": [
    {
     "data": {
      "text/plain": [
       "[1, 2, 3, 6, 7, 54]"
      ]
     },
     "execution_count": 17,
     "metadata": {},
     "output_type": "execute_result"
    }
   ],
   "source": [
    "numbers"
   ]
  },
  {
   "cell_type": "code",
   "execution_count": 18,
   "id": "34a28d17-b9fb-4926-8535-7f21758b3ef0",
   "metadata": {},
   "outputs": [
    {
     "data": {
      "text/plain": [
       "[54, 7, 6, 3, 2, 1]"
      ]
     },
     "execution_count": 18,
     "metadata": {},
     "output_type": "execute_result"
    }
   ],
   "source": [
    "numbers=[3,54,6,7,2,1]\n",
    "numbers.sort(reverse=True)\n",
    "numbers"
   ]
  },
  {
   "cell_type": "markdown",
   "id": "7a13a4ab-1528-4797-959b-dcb6da6e44c4",
   "metadata": {},
   "source": [
    "## Update"
   ]
  },
  {
   "cell_type": "code",
   "execution_count": 19,
   "id": "918d1765-c44a-41be-bf61-c6a3dc7f0d9c",
   "metadata": {},
   "outputs": [],
   "source": [
    "numbers[1] = 1000"
   ]
  },
  {
   "cell_type": "code",
   "execution_count": 20,
   "id": "af027c2e-7d70-42ac-b500-4ac54baea5c7",
   "metadata": {},
   "outputs": [
    {
     "data": {
      "text/plain": [
       "[54, 1000, 6, 3, 2, 1]"
      ]
     },
     "execution_count": 20,
     "metadata": {},
     "output_type": "execute_result"
    }
   ],
   "source": [
    "numbers"
   ]
  },
  {
   "cell_type": "markdown",
   "id": "8621de35-e8ee-4417-8d98-935f4bbeb422",
   "metadata": {},
   "source": [
    "## Copy"
   ]
  },
  {
   "cell_type": "code",
   "execution_count": 21,
   "id": "48c556b2-703d-4029-87ec-224a12d664e5",
   "metadata": {},
   "outputs": [
    {
     "data": {
      "text/plain": [
       "['Spain', 'Pakistan', 'Brazil', 'China']"
      ]
     },
     "execution_count": 21,
     "metadata": {},
     "output_type": "execute_result"
    }
   ],
   "source": [
    "countries[:]"
   ]
  },
  {
   "cell_type": "code",
   "execution_count": 22,
   "id": "6f672ed4-195a-4cae-8c93-a58f13c0069c",
   "metadata": {},
   "outputs": [
    {
     "data": {
      "text/plain": [
       "['Spain', 'Pakistan', 'Brazil', 'China']"
      ]
     },
     "execution_count": 22,
     "metadata": {},
     "output_type": "execute_result"
    }
   ],
   "source": [
    "countries.copy()"
   ]
  },
  {
   "cell_type": "code",
   "execution_count": 23,
   "id": "30720238-e56b-426a-9a81-d51b86ef4248",
   "metadata": {},
   "outputs": [],
   "source": [
    "New_List = countries.copy()"
   ]
  },
  {
   "cell_type": "code",
   "execution_count": 24,
   "id": "8598e798-097e-4724-9c4c-0727de531e92",
   "metadata": {},
   "outputs": [
    {
     "data": {
      "text/plain": [
       "['Spain', 'Pakistan', 'Brazil', 'China']"
      ]
     },
     "execution_count": 24,
     "metadata": {},
     "output_type": "execute_result"
    }
   ],
   "source": [
    "New_List"
   ]
  },
  {
   "cell_type": "markdown",
   "id": "7b52bde3-c53b-49d4-ad36-d1b19f2e198b",
   "metadata": {},
   "source": [
    "## Dictionary"
   ]
  },
  {
   "cell_type": "code",
   "execution_count": 25,
   "id": "ae61f860-c515-43ba-82b7-18a35b71a747",
   "metadata": {},
   "outputs": [],
   "source": [
    "my_data = {'Name':'Mannan','age':'24'}"
   ]
  },
  {
   "cell_type": "code",
   "execution_count": 26,
   "id": "4e6c013a-05f7-4ca4-9d75-d8d8a0063b49",
   "metadata": {},
   "outputs": [
    {
     "data": {
      "text/plain": [
       "dict_keys(['Name', 'age'])"
      ]
     },
     "execution_count": 26,
     "metadata": {},
     "output_type": "execute_result"
    }
   ],
   "source": [
    "my_data.keys()"
   ]
  },
  {
   "cell_type": "code",
   "execution_count": 27,
   "id": "54f2d97b-e8a9-4c3f-b2fc-e9d75c773efa",
   "metadata": {},
   "outputs": [
    {
     "data": {
      "text/plain": [
       "dict_values(['Mannan', '24'])"
      ]
     },
     "execution_count": 27,
     "metadata": {},
     "output_type": "execute_result"
    }
   ],
   "source": [
    "my_data.values()"
   ]
  },
  {
   "cell_type": "code",
   "execution_count": 28,
   "id": "0cf19e30-2279-48e3-82ee-8425f7878c4f",
   "metadata": {},
   "outputs": [],
   "source": [
    "my_data['Height'] = 1.8"
   ]
  },
  {
   "cell_type": "code",
   "execution_count": 29,
   "id": "312f4646-0a2d-48a4-9280-4a61d16f7ae2",
   "metadata": {},
   "outputs": [
    {
     "data": {
      "text/plain": [
       "{'Name': 'Mannan', 'age': '24', 'Height': 1.8}"
      ]
     },
     "execution_count": 29,
     "metadata": {},
     "output_type": "execute_result"
    }
   ],
   "source": [
    "my_data"
   ]
  },
  {
   "cell_type": "code",
   "execution_count": 30,
   "id": "ede0f5ec-93fc-45ce-ab1f-471f913d4a4b",
   "metadata": {},
   "outputs": [],
   "source": [
    "my_data.update({'Height':2.0})"
   ]
  },
  {
   "cell_type": "code",
   "execution_count": 31,
   "id": "80957fcb-c936-439e-a059-70b0bbc89363",
   "metadata": {},
   "outputs": [
    {
     "data": {
      "text/plain": [
       "{'Name': 'Mannan', 'age': '24', 'Height': 2.0}"
      ]
     },
     "execution_count": 31,
     "metadata": {},
     "output_type": "execute_result"
    }
   ],
   "source": [
    "my_data"
   ]
  },
  {
   "cell_type": "markdown",
   "id": "f1af255e-21a0-4360-a794-6d1c0b88ce97",
   "metadata": {},
   "source": [
    "# Remove a Element"
   ]
  },
  {
   "cell_type": "code",
   "execution_count": 32,
   "id": "80e3d2d9-8a08-461f-9983-07b4a21120f9",
   "metadata": {},
   "outputs": [
    {
     "data": {
      "text/plain": [
       "'Mannan'"
      ]
     },
     "execution_count": 32,
     "metadata": {},
     "output_type": "execute_result"
    }
   ],
   "source": [
    "my_data.pop('Name')"
   ]
  },
  {
   "cell_type": "code",
   "execution_count": 33,
   "id": "888c3fe8-5215-475c-b795-e7be10e525a6",
   "metadata": {},
   "outputs": [
    {
     "data": {
      "text/plain": [
       "{'age': '24', 'Height': 2.0}"
      ]
     },
     "execution_count": 33,
     "metadata": {},
     "output_type": "execute_result"
    }
   ],
   "source": [
    "my_data"
   ]
  },
  {
   "cell_type": "code",
   "execution_count": 34,
   "id": "a6ad8f07-3057-4de5-8776-d062813baeec",
   "metadata": {},
   "outputs": [],
   "source": [
    "del my_data['Height']"
   ]
  },
  {
   "cell_type": "code",
   "execution_count": 35,
   "id": "309311a5-f7e1-4132-9232-93bafa06ca7e",
   "metadata": {},
   "outputs": [
    {
     "data": {
      "text/plain": [
       "{'age': '24'}"
      ]
     },
     "execution_count": 35,
     "metadata": {},
     "output_type": "execute_result"
    }
   ],
   "source": [
    "my_data"
   ]
  },
  {
   "cell_type": "code",
   "execution_count": 36,
   "id": "0f892aa9-8146-46ab-97ec-1e8fd8072006",
   "metadata": {},
   "outputs": [],
   "source": [
    "my_data.clear()"
   ]
  },
  {
   "cell_type": "code",
   "execution_count": 37,
   "id": "062d5bec-ae24-45de-a7a9-44a5ae3538eb",
   "metadata": {},
   "outputs": [
    {
     "data": {
      "text/plain": [
       "{}"
      ]
     },
     "execution_count": 37,
     "metadata": {},
     "output_type": "execute_result"
    }
   ],
   "source": [
    "my_data"
   ]
  },
  {
   "cell_type": "markdown",
   "id": "c250571d-5dd6-4dc6-818f-0e0d4e40481d",
   "metadata": {},
   "source": [
    "## If statement"
   ]
  },
  {
   "cell_type": "code",
   "execution_count": 38,
   "id": "2d02f963-ab9e-4db7-bd8c-6376bb0243cf",
   "metadata": {},
   "outputs": [
    {
     "name": "stdout",
     "output_type": "stream",
     "text": [
      "You're a Teenager\n"
     ]
    }
   ],
   "source": [
    "age=16\n",
    "\n",
    "if age>=18:\n",
    "    print(\"You're an adult\")\n",
    "elif age>=13:\n",
    "    print(\"You're a Teenager\")\n",
    "else:\n",
    "    print(\"You're a Kid\")"
   ]
  },
  {
   "cell_type": "markdown",
   "id": "c14faccb-389f-41b6-8796-6477a154ba6a",
   "metadata": {},
   "source": [
    "## LOOP"
   ]
  },
  {
   "cell_type": "code",
   "execution_count": 39,
   "id": "1b6007c6-40d3-487a-a57f-b31123a63eae",
   "metadata": {},
   "outputs": [
    {
     "data": {
      "text/plain": [
       "['Spain', 'Pakistan', 'Brazil', 'China']"
      ]
     },
     "execution_count": 39,
     "metadata": {},
     "output_type": "execute_result"
    }
   ],
   "source": [
    "countries"
   ]
  },
  {
   "cell_type": "code",
   "execution_count": 40,
   "id": "eb12fbbc-675a-41c8-8baa-593aaf0b8f44",
   "metadata": {},
   "outputs": [
    {
     "name": "stdout",
     "output_type": "stream",
     "text": [
      "0\n",
      "Spain\n",
      "1\n",
      "Pakistan\n",
      "2\n",
      "Brazil\n",
      "3\n",
      "China\n"
     ]
    }
   ],
   "source": [
    "for i,country in enumerate(countries):\n",
    "    print(i)\n",
    "    print(country)"
   ]
  },
  {
   "cell_type": "code",
   "execution_count": 41,
   "id": "fd4eefbe-391c-4997-beb8-67539c986cab",
   "metadata": {},
   "outputs": [
    {
     "data": {
      "text/plain": [
       "{'name': 'Mannan', 'age': '24'}"
      ]
     },
     "execution_count": 41,
     "metadata": {},
     "output_type": "execute_result"
    }
   ],
   "source": [
    "my_data = {'name':'Mannan', 'age':'24'}\n",
    "my_data"
   ]
  },
  {
   "cell_type": "code",
   "execution_count": 42,
   "id": "82a2622c-086d-4ea1-a6c8-140f0f7128df",
   "metadata": {},
   "outputs": [
    {
     "name": "stdout",
     "output_type": "stream",
     "text": [
      "name\n",
      "Mannan\n",
      "age\n",
      "24\n"
     ]
    }
   ],
   "source": [
    "for key,value in my_data.items():\n",
    "    print(key)\n",
    "    print(value)"
   ]
  },
  {
   "cell_type": "markdown",
   "id": "f37ff59b-9b52-472a-a08c-ab8439d6a3a1",
   "metadata": {},
   "source": [
    "## Function"
   ]
  },
  {
   "cell_type": "code",
   "execution_count": 43,
   "id": "891235d7-f5eb-4337-95ca-7d9d7f4401d4",
   "metadata": {},
   "outputs": [],
   "source": [
    "def Sum_values(a, b):\n",
    "    x = a+b\n",
    "    return x"
   ]
  },
  {
   "cell_type": "code",
   "execution_count": 44,
   "id": "dc9b1fb6-e002-41c5-81d2-c1cd4bf3bf83",
   "metadata": {},
   "outputs": [
    {
     "data": {
      "text/plain": [
       "6"
      ]
     },
     "execution_count": 44,
     "metadata": {},
     "output_type": "execute_result"
    }
   ],
   "source": [
    "Sum_values(1, 5)"
   ]
  },
  {
   "cell_type": "markdown",
   "id": "8c89a198-ffd2-46aa-908b-00119d015e3a",
   "metadata": {},
   "source": [
    "### Types"
   ]
  },
  {
   "cell_type": "code",
   "execution_count": 45,
   "id": "c257c2d7-2dfb-4d9a-8ec9-89a9cbaaa9c8",
   "metadata": {},
   "outputs": [
    {
     "data": {
      "text/plain": [
       "range(1, 10, 2)"
      ]
     },
     "execution_count": 45,
     "metadata": {},
     "output_type": "execute_result"
    }
   ],
   "source": [
    "range(1,10, 2)"
   ]
  },
  {
   "cell_type": "code",
   "execution_count": 47,
   "id": "68cef45d-e355-4bdd-a6ce-89748c3df8b3",
   "metadata": {},
   "outputs": [
    {
     "name": "stdout",
     "output_type": "stream",
     "text": [
      "1\n",
      "3\n",
      "5\n",
      "7\n",
      "9\n"
     ]
    }
   ],
   "source": [
    "for i in range(1, 10, 2):\n",
    "    print(i)"
   ]
  },
  {
   "cell_type": "markdown",
   "id": "c8cb2d91-8531-4b7e-b171-9e27cd7377f6",
   "metadata": {},
   "source": [
    "## Module"
   ]
  },
  {
   "cell_type": "code",
   "execution_count": null,
   "id": "78e8d90e-65ec-40a7-8dd7-b2975d322df2",
   "metadata": {},
   "outputs": [],
   "source": []
  }
 ],
 "metadata": {
  "kernelspec": {
   "display_name": "Python 3 (ipykernel)",
   "language": "python",
   "name": "python3"
  },
  "language_info": {
   "codemirror_mode": {
    "name": "ipython",
    "version": 3
   },
   "file_extension": ".py",
   "mimetype": "text/x-python",
   "name": "python",
   "nbconvert_exporter": "python",
   "pygments_lexer": "ipython3",
   "version": "3.13.5"
  }
 },
 "nbformat": 4,
 "nbformat_minor": 5
}
